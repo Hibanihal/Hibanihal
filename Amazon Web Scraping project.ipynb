{
 "cells": [
  {
   "cell_type": "code",
   "execution_count": 1,
   "id": "ff8528cb",
   "metadata": {},
   "outputs": [],
   "source": [
    "# importing libraries\n",
    "from bs4 import BeautifulSoup\n",
    "import requests\n",
    "import time\n",
    "import datetime\n",
    "import smtplib"
   ]
  },
  {
   "cell_type": "code",
   "execution_count": 5,
   "id": "bb55161f",
   "metadata": {},
   "outputs": [
    {
     "name": "stdout",
     "output_type": "stream",
     "text": [
      "\n",
      "                   Casio G-Shock for Women Analog-Digital Black Dial Watch-GMA-S2100-1ADR(G1107)\n",
      "                  \n",
      "\n",
      "\n",
      "\n",
      "\n",
      "\n",
      "                       4.4 out of 5 stars\n",
      "                      \n",
      "\n",
      "\n",
      "\n",
      "\n",
      "\n",
      "\n",
      "\n",
      "\n",
      "\n",
      "\n",
      "\n",
      "\n",
      "\n",
      "                  ₹8,295.00\n",
      "                 \n",
      "\n",
      "\n",
      "                   ₹\n",
      "                  \n",
      "\n",
      "                   8,295\n",
      "                   \n",
      "                    .\n",
      "                   \n",
      "\n",
      "\n",
      "                   00\n",
      "                  \n",
      "\n",
      "\n",
      "\n",
      "\n",
      "\n",
      "\n",
      "\n",
      "\n",
      "\n",
      "\n",
      "\n"
     ]
    }
   ],
   "source": [
    "# Connecting to website\n",
    "\n",
    "URL = 'https://www.amazon.in/Casio-Analog-Digital-Black-Womens-Watch-GMA-S2100-1ADR/dp/B095MZGFNS/ref=sr_1_5?fst=as%3Aoff&pf_rd_i=16699850031&pf_rd_m=A1VBAL9TL5WCBF&pf_rd_p=3503c3c3-533b-41f8-8413-0792ef3e5156&pf_rd_r=8CESBPNM1AC35VM66SAB&pf_rd_s=merchandised-search-11&pf_rd_t=30901&qid=1660070914&refinements=p_n_feature_seven_browse-bin%3A1480902031%2Cp_n_feature_fourteen_browse-bin%3A11142592031%7C19056941031&rnid=11142591031&s=watch&sr=1-5'\n",
    "\n",
    "headers = {\"User-Agent\": \"Mozilla/5.0 (Windows NT 10.0; Win64; x64) AppleWebKit/537.36 (KHTML, like Gecko) Chrome/78.0.3904.108 Safari/537.36\", \"Accept-Encoding\":\"gzip, deflate\", \"Accept\":\"text/html,application/xhtml+xml,application/xml;q=0.9,*/*;q=0.8\", \"DNT\":\"1\",\"Connection\":\"close\", \"Upgrade-Insecure-Requests\":\"1\"}\n",
    "\n",
    "page = requests.get(URL, headers=headers)\n",
    "\n",
    "soup1 = BeautifulSoup(page.content, \"html.parser\")\n",
    "\n",
    "soup2 = BeautifulSoup(soup1.prettify(), \"html.parser\")\n",
    "\n",
    "title = soup2.find(id='productTitle').get_text()\n",
    "review = soup2.find(id=\"acrPopover\").get_text()\n",
    "price = soup2.find(id=\"corePriceDisplay_desktop_feature_div\").get_text()\n",
    "\n",
    "print(title)\n",
    "print(review)\n",
    "print(price)\n"
   ]
  },
  {
   "cell_type": "code",
   "execution_count": 6,
   "id": "02f344bc",
   "metadata": {},
   "outputs": [
    {
     "name": "stdout",
     "output_type": "stream",
     "text": [
      "Casio G-Shock for Women Analog-Digital Black Dial Watch-GMA-S2100-1ADR(G1107)\n",
      "8,295.00\n",
      "4.4\n"
     ]
    }
   ],
   "source": [
    "# Cleaning the data\n",
    "\n",
    "price = price.strip()[1:9]\n",
    "title = title.strip()\n",
    "review = review.strip()[:3]\n",
    "print(title)\n",
    "print(price)\n",
    "print(review)"
   ]
  },
  {
   "cell_type": "code",
   "execution_count": 7,
   "id": "ca15f8fb",
   "metadata": {},
   "outputs": [
    {
     "name": "stdout",
     "output_type": "stream",
     "text": [
      "2022-08-09\n"
     ]
    }
   ],
   "source": [
    "# Creating a Timestamp for the output to track when data was collected\n",
    "\n",
    "import datetime\n",
    "\n",
    "today = datetime.date.today()\n",
    "\n",
    "print(today)"
   ]
  },
  {
   "cell_type": "code",
   "execution_count": 13,
   "id": "8d31cba0",
   "metadata": {},
   "outputs": [],
   "source": [
    "# Creating CSV file with headers and data \n",
    "\n",
    "import csv \n",
    "\n",
    "header = ['Date', 'Title', 'Price','Rating']\n",
    "data = [today, title, price, review]\n",
    "\n",
    "\n",
    "with open('Amazonproduct.csv', 'w', newline='', encoding='UTF8') as f:\n",
    "    writer = csv.writer(f)\n",
    "    writer.writerow(header)\n",
    "    writer.writerow(data)\n",
    "    "
   ]
  },
  {
   "cell_type": "code",
   "execution_count": 15,
   "id": "cd7d8d76",
   "metadata": {},
   "outputs": [
    {
     "data": {
      "text/html": [
       "<div>\n",
       "<style scoped>\n",
       "    .dataframe tbody tr th:only-of-type {\n",
       "        vertical-align: middle;\n",
       "    }\n",
       "\n",
       "    .dataframe tbody tr th {\n",
       "        vertical-align: top;\n",
       "    }\n",
       "\n",
       "    .dataframe thead th {\n",
       "        text-align: right;\n",
       "    }\n",
       "</style>\n",
       "<table border=\"1\" class=\"dataframe\">\n",
       "  <thead>\n",
       "    <tr style=\"text-align: right;\">\n",
       "      <th></th>\n",
       "      <th>Date</th>\n",
       "      <th>Title</th>\n",
       "      <th>Price</th>\n",
       "      <th>Rating</th>\n",
       "    </tr>\n",
       "  </thead>\n",
       "  <tbody>\n",
       "    <tr>\n",
       "      <th>0</th>\n",
       "      <td>2022-08-09</td>\n",
       "      <td>Casio G-Shock for Women Analog-Digital Black D...</td>\n",
       "      <td>8,295.00</td>\n",
       "      <td>4.4</td>\n",
       "    </tr>\n",
       "  </tbody>\n",
       "</table>\n",
       "</div>"
      ],
      "text/plain": [
       "         Date                                              Title     Price  \\\n",
       "0  2022-08-09  Casio G-Shock for Women Analog-Digital Black D...  8,295.00   \n",
       "\n",
       "   Rating  \n",
       "0     4.4  "
      ]
     },
     "execution_count": 15,
     "metadata": {},
     "output_type": "execute_result"
    }
   ],
   "source": [
    "import pandas as pd\n",
    "\n",
    "df = pd.read_csv(r'Amazonproduct.csv')\n",
    "print (df)"
   ]
  },
  {
   "cell_type": "code",
   "execution_count": 16,
   "id": "73cdea20",
   "metadata": {},
   "outputs": [],
   "source": [
    "# Appending data to the csv\n",
    "\n",
    "with open('Amazonproduct.csv', 'a+', newline='', encoding='UTF8') as f:\n",
    "    writer = csv.writer(f)\n",
    "    writer.writerow(data)"
   ]
  },
  {
   "cell_type": "code",
   "execution_count": 17,
   "id": "8402c824",
   "metadata": {},
   "outputs": [],
   "source": [
    "# Combining all of the above code into one function\n",
    "\n",
    "def check_price():\n",
    "    URL = 'https://www.amazon.in/Casio-Analog-Digital-Black-Womens-Watch-GMA-S2100-1ADR/dp/B095MZGFNS/ref=sr_1_5?fst=as%3Aoff&pf_rd_i=16699850031&pf_rd_m=A1VBAL9TL5WCBF&pf_rd_p=3503c3c3-533b-41f8-8413-0792ef3e5156&pf_rd_r=8CESBPNM1AC35VM66SAB&pf_rd_s=merchandised-search-11&pf_rd_t=30901&qid=1660070914&refinements=p_n_feature_seven_browse-bin%3A1480902031%2Cp_n_feature_fourteen_browse-bin%3A11142592031%7C19056941031&rnid=11142591031&s=watch&sr=1-5'\n",
    "\n",
    "    headers = {\"User-Agent\": \"Mozilla/5.0 (Windows NT 10.0; Win64; x64) AppleWebKit/537.36 (KHTML, like Gecko) Chrome/78.0.3904.108 Safari/537.36\", \"Accept-Encoding\":\"gzip, deflate\", \"Accept\":\"text/html,application/xhtml+xml,application/xml;q=0.9,*/*;q=0.8\", \"DNT\":\"1\",\"Connection\":\"close\", \"Upgrade-Insecure-Requests\":\"1\"}\n",
    "\n",
    "    page = requests.get(URL, headers=headers)\n",
    "\n",
    "    soup1 = BeautifulSoup(page.content, \"html.parser\")\n",
    "\n",
    "    soup2 = BeautifulSoup(soup1.prettify(), \"html.parser\")\n",
    "\n",
    "    title = soup2.find(id='productTitle').get_text()\n",
    "    review = soup2.find(id=\"acrPopover\").get_text()\n",
    "    price = soup2.find(id=\"corePriceDisplay_desktop_feature_div\").get_text()\n",
    "    \n",
    "    price = price.strip()[1:9]\n",
    "    title = title.strip()\n",
    "    review = review.strip()[:3]\n",
    "    \n",
    "    import datetime\n",
    "    today = datetime.date.today()\n",
    "    \n",
    "    import csv \n",
    "    header = ['Date', 'Title', 'Price','Rating']\n",
    "    data = [today, title, price, review]\n",
    "\n",
    "\n",
    "    with open('Amazonproduct.csv', 'a+', newline='', encoding='UTF8') as f:\n",
    "        writer = csv.writer(f)\n",
    "        writer.writerow(data)\n",
    "    "
   ]
  },
  {
   "cell_type": "code",
   "execution_count": null,
   "id": "46ae847b",
   "metadata": {},
   "outputs": [],
   "source": [
    "# Runs check_price after a set time and inputs data into your CSV\n",
    "\n",
    "while(True):\n",
    "    check_price()\n",
    "    time.sleep(86400)"
   ]
  },
  {
   "cell_type": "code",
   "execution_count": null,
   "id": "75a02da0",
   "metadata": {},
   "outputs": [],
   "source": [
    "# To check the datas\n",
    "df = pd.read_csv(r'Amazonproduct.csv')\n",
    "df.head()"
   ]
  },
  {
   "cell_type": "code",
   "execution_count": null,
   "id": "466f5db3",
   "metadata": {},
   "outputs": [],
   "source": []
  }
 ],
 "metadata": {
  "kernelspec": {
   "display_name": "Python 3 (ipykernel)",
   "language": "python",
   "name": "python3"
  },
  "language_info": {
   "codemirror_mode": {
    "name": "ipython",
    "version": 3
   },
   "file_extension": ".py",
   "mimetype": "text/x-python",
   "name": "python",
   "nbconvert_exporter": "python",
   "pygments_lexer": "ipython3",
   "version": "3.9.12"
  }
 },
 "nbformat": 4,
 "nbformat_minor": 5
}
